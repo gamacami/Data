{
 "cells": [
  {
   "cell_type": "markdown",
   "id": "94ac0faa",
   "metadata": {},
   "source": [
    "# Data Wrangling"
   ]
  },
  {
   "cell_type": "code",
   "execution_count": 1,
   "id": "60591b58",
   "metadata": {},
   "outputs": [],
   "source": [
    "import pandas as pd\n",
    "import numpy as np\n",
    "import seaborn as sns\n",
    "import matplotlib.pyplot as plt \n",
    "import csv"
   ]
  },
  {
   "cell_type": "code",
   "execution_count": 2,
   "id": "30650329",
   "metadata": {},
   "outputs": [],
   "source": [
    "df_p = pd.read_csv(r\"C:\\Users\\57319\\Documents\\Coder\\Data Science\\archive\\p_data.csv\", sep = ';')\n",
    "df_w = pd.read_csv(r\"C:\\Users\\57319\\Documents\\Coder\\Data Science\\archive\\w_data.csv\", sep = ';')"
   ]
  },
  {
   "cell_type": "code",
   "execution_count": 3,
   "id": "360ebb5d",
   "metadata": {},
   "outputs": [
    {
     "data": {
      "text/html": [
       "<div>\n",
       "<style scoped>\n",
       "    .dataframe tbody tr th:only-of-type {\n",
       "        vertical-align: middle;\n",
       "    }\n",
       "\n",
       "    .dataframe tbody tr th {\n",
       "        vertical-align: top;\n",
       "    }\n",
       "\n",
       "    .dataframe thead th {\n",
       "        text-align: right;\n",
       "    }\n",
       "</style>\n",
       "<table border=\"1\" class=\"dataframe\">\n",
       "  <thead>\n",
       "    <tr style=\"text-align: right;\">\n",
       "      <th></th>\n",
       "      <th>Age</th>\n",
       "      <th>Sex</th>\n",
       "      <th>ID</th>\n",
       "      <th>Race</th>\n",
       "      <th>Country</th>\n",
       "      <th>Education</th>\n",
       "      <th>Education-Num</th>\n",
       "      <th>Marital Status</th>\n",
       "      <th>Relationship</th>\n",
       "    </tr>\n",
       "  </thead>\n",
       "  <tbody>\n",
       "    <tr>\n",
       "      <th>0</th>\n",
       "      <td>39.0</td>\n",
       "      <td>Male</td>\n",
       "      <td>49084</td>\n",
       "      <td>White</td>\n",
       "      <td>United-States</td>\n",
       "      <td>Bachelors</td>\n",
       "      <td>13.0</td>\n",
       "      <td>Never-married</td>\n",
       "      <td>Not-in-family</td>\n",
       "    </tr>\n",
       "    <tr>\n",
       "      <th>1</th>\n",
       "      <td>50.0</td>\n",
       "      <td>Male</td>\n",
       "      <td>68553</td>\n",
       "      <td>White</td>\n",
       "      <td>United-States</td>\n",
       "      <td>Bachelors</td>\n",
       "      <td>13.0</td>\n",
       "      <td>Married-civ-spouse</td>\n",
       "      <td>Husband</td>\n",
       "    </tr>\n",
       "    <tr>\n",
       "      <th>2</th>\n",
       "      <td>38.0</td>\n",
       "      <td>Male</td>\n",
       "      <td>143654</td>\n",
       "      <td>White</td>\n",
       "      <td>United-States</td>\n",
       "      <td>HS-grad</td>\n",
       "      <td>9.0</td>\n",
       "      <td>Divorced</td>\n",
       "      <td>Not-in-family</td>\n",
       "    </tr>\n",
       "    <tr>\n",
       "      <th>3</th>\n",
       "      <td>53.0</td>\n",
       "      <td>Male</td>\n",
       "      <td>41510</td>\n",
       "      <td>Black</td>\n",
       "      <td>United-States</td>\n",
       "      <td>11th</td>\n",
       "      <td>7.0</td>\n",
       "      <td>Married-civ-spouse</td>\n",
       "      <td>Husband</td>\n",
       "    </tr>\n",
       "    <tr>\n",
       "      <th>4</th>\n",
       "      <td>28.0</td>\n",
       "      <td>Female</td>\n",
       "      <td>195025</td>\n",
       "      <td>Black</td>\n",
       "      <td>Cuba</td>\n",
       "      <td>Bachelors</td>\n",
       "      <td>13.0</td>\n",
       "      <td>Married-civ-spouse</td>\n",
       "      <td>Wife</td>\n",
       "    </tr>\n",
       "    <tr>\n",
       "      <th>...</th>\n",
       "      <td>...</td>\n",
       "      <td>...</td>\n",
       "      <td>...</td>\n",
       "      <td>...</td>\n",
       "      <td>...</td>\n",
       "      <td>...</td>\n",
       "      <td>...</td>\n",
       "      <td>...</td>\n",
       "      <td>...</td>\n",
       "    </tr>\n",
       "    <tr>\n",
       "      <th>48837</th>\n",
       "      <td>33.0</td>\n",
       "      <td>Male</td>\n",
       "      <td>597186815</td>\n",
       "      <td>White</td>\n",
       "      <td>United-States</td>\n",
       "      <td>Bachelors</td>\n",
       "      <td>13.0</td>\n",
       "      <td>Never-married</td>\n",
       "      <td>Own-child</td>\n",
       "    </tr>\n",
       "    <tr>\n",
       "      <th>48838</th>\n",
       "      <td>39.0</td>\n",
       "      <td>Female</td>\n",
       "      <td>735617153</td>\n",
       "      <td>White</td>\n",
       "      <td>United-States</td>\n",
       "      <td>Bachelors</td>\n",
       "      <td>13.0</td>\n",
       "      <td>Divorced</td>\n",
       "      <td>Not-in-family</td>\n",
       "    </tr>\n",
       "    <tr>\n",
       "      <th>48839</th>\n",
       "      <td>64.0</td>\n",
       "      <td>Male</td>\n",
       "      <td>1131807446</td>\n",
       "      <td>Black</td>\n",
       "      <td>United-States</td>\n",
       "      <td>HS-grad</td>\n",
       "      <td>9.0</td>\n",
       "      <td>Widowed</td>\n",
       "      <td>Other-relative</td>\n",
       "    </tr>\n",
       "    <tr>\n",
       "      <th>48840</th>\n",
       "      <td>38.0</td>\n",
       "      <td>Male</td>\n",
       "      <td>781422087</td>\n",
       "      <td>White</td>\n",
       "      <td>United-States</td>\n",
       "      <td>Bachelors</td>\n",
       "      <td>13.0</td>\n",
       "      <td>Married-civ-spouse</td>\n",
       "      <td>Husband</td>\n",
       "    </tr>\n",
       "    <tr>\n",
       "      <th>48841</th>\n",
       "      <td>44.0</td>\n",
       "      <td>Male</td>\n",
       "      <td>161771296</td>\n",
       "      <td>Asian-Pac-Islander</td>\n",
       "      <td>United-States</td>\n",
       "      <td>Bachelors</td>\n",
       "      <td>13.0</td>\n",
       "      <td>Divorced</td>\n",
       "      <td>Own-child</td>\n",
       "    </tr>\n",
       "  </tbody>\n",
       "</table>\n",
       "<p>48842 rows × 9 columns</p>\n",
       "</div>"
      ],
      "text/plain": [
       "        Age      Sex          ID                 Race         Country  \\\n",
       "0      39.0     Male       49084                White   United-States   \n",
       "1      50.0     Male       68553                White   United-States   \n",
       "2      38.0     Male      143654                White   United-States   \n",
       "3      53.0     Male       41510                Black   United-States   \n",
       "4      28.0   Female      195025                Black            Cuba   \n",
       "...     ...      ...         ...                  ...             ...   \n",
       "48837  33.0     Male   597186815                White   United-States   \n",
       "48838  39.0   Female   735617153                White   United-States   \n",
       "48839  64.0     Male  1131807446                Black   United-States   \n",
       "48840  38.0     Male   781422087                White   United-States   \n",
       "48841  44.0     Male   161771296   Asian-Pac-Islander   United-States   \n",
       "\n",
       "        Education  Education-Num       Marital Status     Relationship  \n",
       "0       Bachelors           13.0        Never-married    Not-in-family  \n",
       "1       Bachelors           13.0   Married-civ-spouse          Husband  \n",
       "2         HS-grad            9.0             Divorced    Not-in-family  \n",
       "3            11th            7.0   Married-civ-spouse          Husband  \n",
       "4       Bachelors           13.0   Married-civ-spouse             Wife  \n",
       "...           ...            ...                  ...              ...  \n",
       "48837   Bachelors           13.0        Never-married        Own-child  \n",
       "48838   Bachelors           13.0             Divorced    Not-in-family  \n",
       "48839     HS-grad            9.0              Widowed   Other-relative  \n",
       "48840   Bachelors           13.0   Married-civ-spouse          Husband  \n",
       "48841   Bachelors           13.0             Divorced        Own-child  \n",
       "\n",
       "[48842 rows x 9 columns]"
      ]
     },
     "execution_count": 3,
     "metadata": {},
     "output_type": "execute_result"
    }
   ],
   "source": [
    "df_p.drop_duplicates()"
   ]
  },
  {
   "cell_type": "code",
   "execution_count": 4,
   "id": "45604b93",
   "metadata": {},
   "outputs": [
    {
     "data": {
      "text/html": [
       "<div>\n",
       "<style scoped>\n",
       "    .dataframe tbody tr th:only-of-type {\n",
       "        vertical-align: middle;\n",
       "    }\n",
       "\n",
       "    .dataframe tbody tr th {\n",
       "        vertical-align: top;\n",
       "    }\n",
       "\n",
       "    .dataframe thead th {\n",
       "        text-align: right;\n",
       "    }\n",
       "</style>\n",
       "<table border=\"1\" class=\"dataframe\">\n",
       "  <thead>\n",
       "    <tr style=\"text-align: right;\">\n",
       "      <th></th>\n",
       "      <th>Workclass</th>\n",
       "      <th>fnlwgt</th>\n",
       "      <th>Capital Gain</th>\n",
       "      <th>Capital Loss</th>\n",
       "      <th>Hours per week</th>\n",
       "      <th>ID</th>\n",
       "      <th>Target</th>\n",
       "    </tr>\n",
       "  </thead>\n",
       "  <tbody>\n",
       "    <tr>\n",
       "      <th>0</th>\n",
       "      <td>State-gov</td>\n",
       "      <td>77516.0</td>\n",
       "      <td>2174.0</td>\n",
       "      <td>0.0</td>\n",
       "      <td>40.0</td>\n",
       "      <td>49084</td>\n",
       "      <td>&lt;=50K</td>\n",
       "    </tr>\n",
       "    <tr>\n",
       "      <th>1</th>\n",
       "      <td>Self-emp-not-inc</td>\n",
       "      <td>83311.0</td>\n",
       "      <td>0.0</td>\n",
       "      <td>0.0</td>\n",
       "      <td>13.0</td>\n",
       "      <td>68553</td>\n",
       "      <td>&lt;=50K</td>\n",
       "    </tr>\n",
       "    <tr>\n",
       "      <th>2</th>\n",
       "      <td>Private</td>\n",
       "      <td>215646.0</td>\n",
       "      <td>0.0</td>\n",
       "      <td>0.0</td>\n",
       "      <td>40.0</td>\n",
       "      <td>143654</td>\n",
       "      <td>&lt;=50K</td>\n",
       "    </tr>\n",
       "    <tr>\n",
       "      <th>3</th>\n",
       "      <td>Private</td>\n",
       "      <td>234721.0</td>\n",
       "      <td>0.0</td>\n",
       "      <td>0.0</td>\n",
       "      <td>40.0</td>\n",
       "      <td>41510</td>\n",
       "      <td>&lt;=50K</td>\n",
       "    </tr>\n",
       "    <tr>\n",
       "      <th>4</th>\n",
       "      <td>Private</td>\n",
       "      <td>338409.0</td>\n",
       "      <td>0.0</td>\n",
       "      <td>0.0</td>\n",
       "      <td>40.0</td>\n",
       "      <td>195025</td>\n",
       "      <td>&lt;=50K</td>\n",
       "    </tr>\n",
       "    <tr>\n",
       "      <th>...</th>\n",
       "      <td>...</td>\n",
       "      <td>...</td>\n",
       "      <td>...</td>\n",
       "      <td>...</td>\n",
       "      <td>...</td>\n",
       "      <td>...</td>\n",
       "      <td>...</td>\n",
       "    </tr>\n",
       "    <tr>\n",
       "      <th>48838</th>\n",
       "      <td>Private</td>\n",
       "      <td>215419.0</td>\n",
       "      <td>0.0</td>\n",
       "      <td>0.0</td>\n",
       "      <td>36.0</td>\n",
       "      <td>735617153</td>\n",
       "      <td>&lt;=50K.</td>\n",
       "    </tr>\n",
       "    <tr>\n",
       "      <th>48839</th>\n",
       "      <td>?</td>\n",
       "      <td>321403.0</td>\n",
       "      <td>0.0</td>\n",
       "      <td>0.0</td>\n",
       "      <td>40.0</td>\n",
       "      <td>1131807446</td>\n",
       "      <td>&lt;=50K.</td>\n",
       "    </tr>\n",
       "    <tr>\n",
       "      <th>48840</th>\n",
       "      <td>Private</td>\n",
       "      <td>374983.0</td>\n",
       "      <td>0.0</td>\n",
       "      <td>0.0</td>\n",
       "      <td>50.0</td>\n",
       "      <td>781422087</td>\n",
       "      <td>&lt;=50K.</td>\n",
       "    </tr>\n",
       "    <tr>\n",
       "      <th>48841</th>\n",
       "      <td>Private</td>\n",
       "      <td>83891.0</td>\n",
       "      <td>5455.0</td>\n",
       "      <td>0.0</td>\n",
       "      <td>40.0</td>\n",
       "      <td>161771296</td>\n",
       "      <td>&lt;=50K.</td>\n",
       "    </tr>\n",
       "    <tr>\n",
       "      <th>48842</th>\n",
       "      <td>Self-emp-inc</td>\n",
       "      <td>182148.0</td>\n",
       "      <td>0.0</td>\n",
       "      <td>0.0</td>\n",
       "      <td>60.0</td>\n",
       "      <td>1344995623</td>\n",
       "      <td>&gt;50K.</td>\n",
       "    </tr>\n",
       "  </tbody>\n",
       "</table>\n",
       "<p>48843 rows × 7 columns</p>\n",
       "</div>"
      ],
      "text/plain": [
       "               Workclass    fnlwgt  Capital Gain  Capital Loss  \\\n",
       "0              State-gov   77516.0        2174.0           0.0   \n",
       "1       Self-emp-not-inc   83311.0           0.0           0.0   \n",
       "2                Private  215646.0           0.0           0.0   \n",
       "3                Private  234721.0           0.0           0.0   \n",
       "4                Private  338409.0           0.0           0.0   \n",
       "...                  ...       ...           ...           ...   \n",
       "48838            Private  215419.0           0.0           0.0   \n",
       "48839                  ?  321403.0           0.0           0.0   \n",
       "48840            Private  374983.0           0.0           0.0   \n",
       "48841            Private   83891.0        5455.0           0.0   \n",
       "48842       Self-emp-inc  182148.0           0.0           0.0   \n",
       "\n",
       "       Hours per week          ID   Target  \n",
       "0                40.0       49084    <=50K  \n",
       "1                13.0       68553    <=50K  \n",
       "2                40.0      143654    <=50K  \n",
       "3                40.0       41510    <=50K  \n",
       "4                40.0      195025    <=50K  \n",
       "...               ...         ...      ...  \n",
       "48838            36.0   735617153   <=50K.  \n",
       "48839            40.0  1131807446   <=50K.  \n",
       "48840            50.0   781422087   <=50K.  \n",
       "48841            40.0   161771296   <=50K.  \n",
       "48842            60.0  1344995623    >50K.  \n",
       "\n",
       "[48843 rows x 7 columns]"
      ]
     },
     "execution_count": 4,
     "metadata": {},
     "output_type": "execute_result"
    }
   ],
   "source": [
    "df_w.drop_duplicates()"
   ]
  },
  {
   "cell_type": "code",
   "execution_count": 5,
   "id": "ea5a9ff3",
   "metadata": {},
   "outputs": [
    {
     "data": {
      "text/html": [
       "<div>\n",
       "<style scoped>\n",
       "    .dataframe tbody tr th:only-of-type {\n",
       "        vertical-align: middle;\n",
       "    }\n",
       "\n",
       "    .dataframe tbody tr th {\n",
       "        vertical-align: top;\n",
       "    }\n",
       "\n",
       "    .dataframe thead th {\n",
       "        text-align: right;\n",
       "    }\n",
       "</style>\n",
       "<table border=\"1\" class=\"dataframe\">\n",
       "  <thead>\n",
       "    <tr style=\"text-align: right;\">\n",
       "      <th></th>\n",
       "      <th>Age</th>\n",
       "      <th>Sex</th>\n",
       "      <th>ID</th>\n",
       "      <th>Race</th>\n",
       "      <th>Country</th>\n",
       "      <th>Education</th>\n",
       "      <th>Education-Num</th>\n",
       "      <th>Marital Status</th>\n",
       "      <th>Relationship</th>\n",
       "      <th>Workclass</th>\n",
       "      <th>fnlwgt</th>\n",
       "      <th>Capital Gain</th>\n",
       "      <th>Capital Loss</th>\n",
       "      <th>Hours per week</th>\n",
       "      <th>Target</th>\n",
       "    </tr>\n",
       "  </thead>\n",
       "  <tbody>\n",
       "    <tr>\n",
       "      <th>0</th>\n",
       "      <td>39.0</td>\n",
       "      <td>Male</td>\n",
       "      <td>49084</td>\n",
       "      <td>White</td>\n",
       "      <td>United-States</td>\n",
       "      <td>Bachelors</td>\n",
       "      <td>13.0</td>\n",
       "      <td>Never-married</td>\n",
       "      <td>Not-in-family</td>\n",
       "      <td>State-gov</td>\n",
       "      <td>77516.0</td>\n",
       "      <td>2174.0</td>\n",
       "      <td>0.0</td>\n",
       "      <td>40.0</td>\n",
       "      <td>&lt;=50K</td>\n",
       "    </tr>\n",
       "    <tr>\n",
       "      <th>1</th>\n",
       "      <td>50.0</td>\n",
       "      <td>Male</td>\n",
       "      <td>68553</td>\n",
       "      <td>White</td>\n",
       "      <td>United-States</td>\n",
       "      <td>Bachelors</td>\n",
       "      <td>13.0</td>\n",
       "      <td>Married-civ-spouse</td>\n",
       "      <td>Husband</td>\n",
       "      <td>Self-emp-not-inc</td>\n",
       "      <td>83311.0</td>\n",
       "      <td>0.0</td>\n",
       "      <td>0.0</td>\n",
       "      <td>13.0</td>\n",
       "      <td>&lt;=50K</td>\n",
       "    </tr>\n",
       "    <tr>\n",
       "      <th>2</th>\n",
       "      <td>38.0</td>\n",
       "      <td>Male</td>\n",
       "      <td>143654</td>\n",
       "      <td>White</td>\n",
       "      <td>United-States</td>\n",
       "      <td>HS-grad</td>\n",
       "      <td>9.0</td>\n",
       "      <td>Divorced</td>\n",
       "      <td>Not-in-family</td>\n",
       "      <td>Private</td>\n",
       "      <td>215646.0</td>\n",
       "      <td>0.0</td>\n",
       "      <td>0.0</td>\n",
       "      <td>40.0</td>\n",
       "      <td>&lt;=50K</td>\n",
       "    </tr>\n",
       "    <tr>\n",
       "      <th>3</th>\n",
       "      <td>53.0</td>\n",
       "      <td>Male</td>\n",
       "      <td>41510</td>\n",
       "      <td>Black</td>\n",
       "      <td>United-States</td>\n",
       "      <td>11th</td>\n",
       "      <td>7.0</td>\n",
       "      <td>Married-civ-spouse</td>\n",
       "      <td>Husband</td>\n",
       "      <td>Private</td>\n",
       "      <td>234721.0</td>\n",
       "      <td>0.0</td>\n",
       "      <td>0.0</td>\n",
       "      <td>40.0</td>\n",
       "      <td>&lt;=50K</td>\n",
       "    </tr>\n",
       "    <tr>\n",
       "      <th>4</th>\n",
       "      <td>28.0</td>\n",
       "      <td>Female</td>\n",
       "      <td>195025</td>\n",
       "      <td>Black</td>\n",
       "      <td>Cuba</td>\n",
       "      <td>Bachelors</td>\n",
       "      <td>13.0</td>\n",
       "      <td>Married-civ-spouse</td>\n",
       "      <td>Wife</td>\n",
       "      <td>Private</td>\n",
       "      <td>338409.0</td>\n",
       "      <td>0.0</td>\n",
       "      <td>0.0</td>\n",
       "      <td>40.0</td>\n",
       "      <td>&lt;=50K</td>\n",
       "    </tr>\n",
       "    <tr>\n",
       "      <th>...</th>\n",
       "      <td>...</td>\n",
       "      <td>...</td>\n",
       "      <td>...</td>\n",
       "      <td>...</td>\n",
       "      <td>...</td>\n",
       "      <td>...</td>\n",
       "      <td>...</td>\n",
       "      <td>...</td>\n",
       "      <td>...</td>\n",
       "      <td>...</td>\n",
       "      <td>...</td>\n",
       "      <td>...</td>\n",
       "      <td>...</td>\n",
       "      <td>...</td>\n",
       "      <td>...</td>\n",
       "    </tr>\n",
       "    <tr>\n",
       "      <th>48837</th>\n",
       "      <td>33.0</td>\n",
       "      <td>Male</td>\n",
       "      <td>597186815</td>\n",
       "      <td>White</td>\n",
       "      <td>United-States</td>\n",
       "      <td>Bachelors</td>\n",
       "      <td>13.0</td>\n",
       "      <td>Never-married</td>\n",
       "      <td>Own-child</td>\n",
       "      <td>Private</td>\n",
       "      <td>245211.0</td>\n",
       "      <td>0.0</td>\n",
       "      <td>0.0</td>\n",
       "      <td>40.0</td>\n",
       "      <td>&lt;=50K.</td>\n",
       "    </tr>\n",
       "    <tr>\n",
       "      <th>48838</th>\n",
       "      <td>39.0</td>\n",
       "      <td>Female</td>\n",
       "      <td>735617153</td>\n",
       "      <td>White</td>\n",
       "      <td>United-States</td>\n",
       "      <td>Bachelors</td>\n",
       "      <td>13.0</td>\n",
       "      <td>Divorced</td>\n",
       "      <td>Not-in-family</td>\n",
       "      <td>Private</td>\n",
       "      <td>215419.0</td>\n",
       "      <td>0.0</td>\n",
       "      <td>0.0</td>\n",
       "      <td>36.0</td>\n",
       "      <td>&lt;=50K.</td>\n",
       "    </tr>\n",
       "    <tr>\n",
       "      <th>48839</th>\n",
       "      <td>64.0</td>\n",
       "      <td>Male</td>\n",
       "      <td>1131807446</td>\n",
       "      <td>Black</td>\n",
       "      <td>United-States</td>\n",
       "      <td>HS-grad</td>\n",
       "      <td>9.0</td>\n",
       "      <td>Widowed</td>\n",
       "      <td>Other-relative</td>\n",
       "      <td>?</td>\n",
       "      <td>321403.0</td>\n",
       "      <td>0.0</td>\n",
       "      <td>0.0</td>\n",
       "      <td>40.0</td>\n",
       "      <td>&lt;=50K.</td>\n",
       "    </tr>\n",
       "    <tr>\n",
       "      <th>48840</th>\n",
       "      <td>38.0</td>\n",
       "      <td>Male</td>\n",
       "      <td>781422087</td>\n",
       "      <td>White</td>\n",
       "      <td>United-States</td>\n",
       "      <td>Bachelors</td>\n",
       "      <td>13.0</td>\n",
       "      <td>Married-civ-spouse</td>\n",
       "      <td>Husband</td>\n",
       "      <td>Private</td>\n",
       "      <td>374983.0</td>\n",
       "      <td>0.0</td>\n",
       "      <td>0.0</td>\n",
       "      <td>50.0</td>\n",
       "      <td>&lt;=50K.</td>\n",
       "    </tr>\n",
       "    <tr>\n",
       "      <th>48841</th>\n",
       "      <td>44.0</td>\n",
       "      <td>Male</td>\n",
       "      <td>161771296</td>\n",
       "      <td>Asian-Pac-Islander</td>\n",
       "      <td>United-States</td>\n",
       "      <td>Bachelors</td>\n",
       "      <td>13.0</td>\n",
       "      <td>Divorced</td>\n",
       "      <td>Own-child</td>\n",
       "      <td>Private</td>\n",
       "      <td>83891.0</td>\n",
       "      <td>5455.0</td>\n",
       "      <td>0.0</td>\n",
       "      <td>40.0</td>\n",
       "      <td>&lt;=50K.</td>\n",
       "    </tr>\n",
       "  </tbody>\n",
       "</table>\n",
       "<p>48842 rows × 15 columns</p>\n",
       "</div>"
      ],
      "text/plain": [
       "        Age      Sex          ID                 Race         Country  \\\n",
       "0      39.0     Male       49084                White   United-States   \n",
       "1      50.0     Male       68553                White   United-States   \n",
       "2      38.0     Male      143654                White   United-States   \n",
       "3      53.0     Male       41510                Black   United-States   \n",
       "4      28.0   Female      195025                Black            Cuba   \n",
       "...     ...      ...         ...                  ...             ...   \n",
       "48837  33.0     Male   597186815                White   United-States   \n",
       "48838  39.0   Female   735617153                White   United-States   \n",
       "48839  64.0     Male  1131807446                Black   United-States   \n",
       "48840  38.0     Male   781422087                White   United-States   \n",
       "48841  44.0     Male   161771296   Asian-Pac-Islander   United-States   \n",
       "\n",
       "        Education  Education-Num       Marital Status     Relationship  \\\n",
       "0       Bachelors           13.0        Never-married    Not-in-family   \n",
       "1       Bachelors           13.0   Married-civ-spouse          Husband   \n",
       "2         HS-grad            9.0             Divorced    Not-in-family   \n",
       "3            11th            7.0   Married-civ-spouse          Husband   \n",
       "4       Bachelors           13.0   Married-civ-spouse             Wife   \n",
       "...           ...            ...                  ...              ...   \n",
       "48837   Bachelors           13.0        Never-married        Own-child   \n",
       "48838   Bachelors           13.0             Divorced    Not-in-family   \n",
       "48839     HS-grad            9.0              Widowed   Other-relative   \n",
       "48840   Bachelors           13.0   Married-civ-spouse          Husband   \n",
       "48841   Bachelors           13.0             Divorced        Own-child   \n",
       "\n",
       "               Workclass    fnlwgt  Capital Gain  Capital Loss  \\\n",
       "0              State-gov   77516.0        2174.0           0.0   \n",
       "1       Self-emp-not-inc   83311.0           0.0           0.0   \n",
       "2                Private  215646.0           0.0           0.0   \n",
       "3                Private  234721.0           0.0           0.0   \n",
       "4                Private  338409.0           0.0           0.0   \n",
       "...                  ...       ...           ...           ...   \n",
       "48837            Private  245211.0           0.0           0.0   \n",
       "48838            Private  215419.0           0.0           0.0   \n",
       "48839                  ?  321403.0           0.0           0.0   \n",
       "48840            Private  374983.0           0.0           0.0   \n",
       "48841            Private   83891.0        5455.0           0.0   \n",
       "\n",
       "       Hours per week   Target  \n",
       "0                40.0    <=50K  \n",
       "1                13.0    <=50K  \n",
       "2                40.0    <=50K  \n",
       "3                40.0    <=50K  \n",
       "4                40.0    <=50K  \n",
       "...               ...      ...  \n",
       "48837            40.0   <=50K.  \n",
       "48838            36.0   <=50K.  \n",
       "48839            40.0   <=50K.  \n",
       "48840            50.0   <=50K.  \n",
       "48841            40.0   <=50K.  \n",
       "\n",
       "[48842 rows x 15 columns]"
      ]
     },
     "execution_count": 5,
     "metadata": {},
     "output_type": "execute_result"
    }
   ],
   "source": [
    "df = pd.merge( df_p , df_w , on = \"ID\")\n",
    "df"
   ]
  },
  {
   "cell_type": "markdown",
   "id": "17beb986",
   "metadata": {},
   "source": [
    "## 1. Quantos ID tem em comum? "
   ]
  },
  {
   "cell_type": "code",
   "execution_count": 6,
   "id": "d196b5ee",
   "metadata": {},
   "outputs": [
    {
     "data": {
      "text/plain": [
       "ID    ID  \n",
       "7286  7286    1\n",
       "Name: ID, dtype: int64"
      ]
     },
     "execution_count": 6,
     "metadata": {},
     "output_type": "execute_result"
    }
   ],
   "source": [
    "IDComum = df.groupby([\"ID\"])[\"ID\"].value_counts()\n",
    "IDComum[IDComum.duplicated()].drop_duplicates()"
   ]
  },
  {
   "cell_type": "markdown",
   "id": "d5f3e1f7",
   "metadata": {},
   "source": [
    "48842 IDs em coumum só o ID 7286 não é comum."
   ]
  },
  {
   "cell_type": "markdown",
   "id": "d259c053",
   "metadata": {},
   "source": [
    "## 2. Corrigindo o target."
   ]
  },
  {
   "cell_type": "code",
   "execution_count": 7,
   "id": "5b02aaaa",
   "metadata": {},
   "outputs": [
    {
     "data": {
      "text/plain": [
       "array([' <=50K', ' >50K', ' <=50K.', ' >50K.'], dtype=object)"
      ]
     },
     "execution_count": 7,
     "metadata": {},
     "output_type": "execute_result"
    }
   ],
   "source": [
    "Target = df['Target'].dropna()\n",
    "Target.unique()\n"
   ]
  },
  {
   "cell_type": "code",
   "execution_count": 9,
   "id": "162ebeb9",
   "metadata": {},
   "outputs": [
    {
     "name": "stderr",
     "output_type": "stream",
     "text": [
      "C:\\Users\\57319\\AppData\\Local\\Temp\\ipykernel_21356\\1300951106.py:1: SettingWithCopyWarning: \n",
      "A value is trying to be set on a copy of a slice from a DataFrame.\n",
      "Try using .loc[row_indexer,col_indexer] = value instead\n",
      "\n",
      "See the caveats in the documentation: https://pandas.pydata.org/pandas-docs/stable/user_guide/indexing.html#returning-a-view-versus-a-copy\n",
      "  df['Target'] = df['Target'].replace({' <=50K.':' <=50K'})\n",
      "C:\\Users\\57319\\AppData\\Local\\Temp\\ipykernel_21356\\1300951106.py:2: SettingWithCopyWarning: \n",
      "A value is trying to be set on a copy of a slice from a DataFrame.\n",
      "Try using .loc[row_indexer,col_indexer] = value instead\n",
      "\n",
      "See the caveats in the documentation: https://pandas.pydata.org/pandas-docs/stable/user_guide/indexing.html#returning-a-view-versus-a-copy\n",
      "  df['Target'] = df['Target'].replace({' >50K.':' >50K'})\n"
     ]
    },
    {
     "data": {
      "text/plain": [
       "array([' <=50K', ' >50K'], dtype=object)"
      ]
     },
     "execution_count": 9,
     "metadata": {},
     "output_type": "execute_result"
    }
   ],
   "source": [
    "df['Target'] = df['Target'].replace({' <=50K.':' <=50K'})\n",
    "df['Target'] = df['Target'].replace({' >50K.':' >50K'})\n",
    "df = df.dropna(subset=['Target'])\n",
    "df['Target'].unique()"
   ]
  },
  {
   "cell_type": "markdown",
   "id": "77a06f91",
   "metadata": {},
   "source": [
    "## 3. Sexo, raça e nível educacional"
   ]
  },
  {
   "cell_type": "markdown",
   "id": "31f0d3d9",
   "metadata": {},
   "source": [
    "Calcular a proporção entre pessoas com salários >50K em relação ao total com pessoas que difiram em sexo, raça e nível educacional. Por exemplo, ache qual é a porcentagem de mulheres com um salário >50k e compare com a dos homens. O mesmo para pessoas de diferentes raças e níves educacionais."
   ]
  },
  {
   "cell_type": "markdown",
   "id": "1148eed3",
   "metadata": {},
   "source": [
    "### 3.1 Salários >50K em relação ao total, difirindo em sexo"
   ]
  },
  {
   "cell_type": "code",
   "execution_count": 34,
   "id": "43ce02ae",
   "metadata": {},
   "outputs": [
    {
     "data": {
      "image/png": "[encoded data removed]",
      "text/plain": [
       "<Figure size 1000x500 with 1 Axes>"
      ]
     },
     "metadata": {},
     "output_type": "display_data"
    }
   ],
   "source": [
    "plt.figure(figsize = (10,5))\n",
    "sns.countplot(y = 'Target', data = df, hue = 'Sex', color = '#fff36b')\n",
    "#plt.xlabel('Gênero')\n",
    "plt.ylabel('Salários')\n",
    "plt.title('Salários vs. Gênero', fontsize = 20)\n",
    "plt.show()"
   ]
  },
  {
   "cell_type": "code",
   "execution_count": 47,
   "id": "9c1b6ce3",
   "metadata": {},
   "outputs": [
    {
     "data": {
      "text/plain": [
       "Target  Sex    \n",
       " <=50K   Female    14423\n",
       "         Male      22732\n",
       " >50K    Female     1769\n",
       "         Male       9917\n",
       "Name: Sex, dtype: int64"
      ]
     },
     "execution_count": 47,
     "metadata": {},
     "output_type": "execute_result"
    }
   ],
   "source": [
    "Female = df.groupby(['Target','Sex'])['Sex'].count()\n",
    "Female\n"
   ]
  },
  {
   "cell_type": "code",
   "execution_count": 50,
   "id": "c812ff5d",
   "metadata": {},
   "outputs": [
    {
     "name": "stdout",
     "output_type": "stream",
     "text": [
      "3.6218828057819086\n"
     ]
    }
   ],
   "source": [
    "porcentagem_mulheres_maior_50k = print(1769*(100/48842)) \n",
    "porcentagem_mulheres_maior_50k"
   ]
  },
  {
   "cell_type": "code",
   "execution_count": 51,
   "id": "d773ecab",
   "metadata": {},
   "outputs": [
    {
     "name": "stdout",
     "output_type": "stream",
     "text": [
      "29.529912779984436\n"
     ]
    }
   ],
   "source": [
    "porcentagem_mulheres_moi_50k = print(14423*(100/48842)) \n",
    "porcentagem_mulheres_moi_50k"
   ]
  },
  {
   "cell_type": "markdown",
   "id": "0df7e65b",
   "metadata": {},
   "source": [
    "A porcentagem de mulheres que possuem um salario > 50K é 3.62%, e 29.52% para as mulheres que possuem um salário <= 50K."
   ]
  },
  {
   "cell_type": "markdown",
   "id": "11a179c4",
   "metadata": {},
   "source": [
    "### 3.2 Salários >50K em relação ao total com pessoas que difiram em raça"
   ]
  },
  {
   "cell_type": "code",
   "execution_count": 82,
   "id": "1d50df3b",
   "metadata": {},
   "outputs": [
    {
     "data": {
      "image/png": "[encoded data removed]",
      "text/plain": [
       "<Figure size 1000x500 with 1 Axes>"
      ]
     },
     "metadata": {},
     "output_type": "display_data"
    }
   ],
   "source": [
    "plt.figure(figsize = (10,5))\n",
    "sns.countplot(x = 'Race', data = df, hue = 'Sex', color = '#fff36b')\n",
    "#plt.xlabel('Gênero')\n",
    "plt.xlabel('Raça')\n",
    "plt.title('Gênero vs. Raças', fontsize = 20)\n",
    "plt.show()"
   ]
  },
  {
   "cell_type": "code",
   "execution_count": 61,
   "id": "1a5ccdd8",
   "metadata": {},
   "outputs": [
    {
     "data": {
      "image/png": "[encoded data removed]",
      "text/plain": [
       "<Figure size 1000x500 with 1 Axes>"
      ]
     },
     "metadata": {},
     "output_type": "display_data"
    }
   ],
   "source": [
    "plt.figure(figsize = (10,5))\n",
    "sns.countplot(x = 'Target', data = df, hue = 'Race', color = '#fff36b')\n",
    "#plt.xlabel('Gênero')\n",
    "plt.xlabel('Salários')\n",
    "plt.title('Salários vs. Raças', fontsize = 20)\n",
    "plt.show()"
   ]
  },
  {
   "cell_type": "code",
   "execution_count": 52,
   "id": "2049a4de",
   "metadata": {},
   "outputs": [
    {
     "data": {
      "text/plain": [
       "array([' White', ' Black', ' Asian-Pac-Islander', ' Amer-Indian-Eskimo',\n",
       "       ' Other'], dtype=object)"
      ]
     },
     "execution_count": 52,
     "metadata": {},
     "output_type": "execute_result"
    }
   ],
   "source": [
    "Raca = df['Race'].T\n",
    "Raca.unique()"
   ]
  },
  {
   "cell_type": "code",
   "execution_count": 54,
   "id": "952a6f2d",
   "metadata": {},
   "outputs": [
    {
     "data": {
      "text/plain": [
       "Target  Sex      Race               \n",
       " <=50K   Female   Amer-Indian-Eskimo      170\n",
       "                  Asian-Pac-Islander      448\n",
       "                  Black                  2176\n",
       "                  Other                   144\n",
       "                  White                 11485\n",
       "         Male     Amer-Indian-Eskimo      245\n",
       "                  Asian-Pac-Islander      662\n",
       "                  Black                  1943\n",
       "                  Other                   212\n",
       "                  White                 19670\n",
       " >50K    Female   Amer-Indian-Eskimo       15\n",
       "                  Asian-Pac-Islander       69\n",
       "                  Black                   132\n",
       "                  Other                    11\n",
       "                  White                  1542\n",
       "         Male     Amer-Indian-Eskimo       40\n",
       "                  Asian-Pac-Islander      340\n",
       "                  Black                   434\n",
       "                  Other                    39\n",
       "                  White                  9064\n",
       "Name: Race, dtype: int64"
      ]
     },
     "execution_count": 54,
     "metadata": {},
     "output_type": "execute_result"
    }
   ],
   "source": [
    "Female = df.groupby(['Target','Sex','Race'])['Race'].count()\n",
    "Female"
   ]
  },
  {
   "cell_type": "code",
   "execution_count": null,
   "id": "2d3bc5e2",
   "metadata": {},
   "outputs": [],
   "source": []
  },
  {
   "cell_type": "markdown",
   "id": "b148d8c0",
   "metadata": {},
   "source": [
    "### 3.3 Salários >50K em relação ao total com pessoas que difiram em nível educacional"
   ]
  },
  {
   "cell_type": "code",
   "execution_count": 90,
   "id": "7aa3d3cf",
   "metadata": {},
   "outputs": [
    {
     "data": {
      "image/png": "[encoded data removed]",
      "text/plain": [
       "<Figure size 1000x1000 with 1 Axes>"
      ]
     },
     "metadata": {},
     "output_type": "display_data"
    }
   ],
   "source": [
    "plt.figure(figsize = (10,10))\n",
    "sns.countplot(y = 'Education', data = df, hue = 'Sex', color = '#fff36b')\n",
    "#plt.xlabel('Gênero')\n",
    "plt.xlabel('Raça')\n",
    "plt.title('Gênero vs. Raças', fontsize = 20)\n",
    "plt.show()"
   ]
  },
  {
   "cell_type": "code",
   "execution_count": 92,
   "id": "3ae93a11",
   "metadata": {},
   "outputs": [
    {
     "data": {
      "text/plain": [
       "Target  Sex      Education    \n",
       " <=50K   Female   10th             453\n",
       "                  11th             639\n",
       "                  12th             207\n",
       "                  1st-4th           61\n",
       "                  5th-6th          123\n",
       "                                  ... \n",
       " >50K    Male     HS-grad         2173\n",
       "                  Masters         1169\n",
       "                  Preschool          1\n",
       "                  Prof-school      554\n",
       "                  Some-college    1770\n",
       "Name: Education, Length: 62, dtype: int64"
      ]
     },
     "execution_count": 92,
     "metadata": {},
     "output_type": "execute_result"
    }
   ],
   "source": [
    "Ed = df.groupby(['Target','Sex', 'Education'])['Education'].count()\n",
    "Ed"
   ]
  },
  {
   "cell_type": "code",
   "execution_count": 93,
   "id": "6ab43e23",
   "metadata": {},
   "outputs": [
    {
     "data": {
      "text/plain": [
       "Target  Sex      Education    \n",
       " >50K    Female   10th               4\n",
       "                  11th              11\n",
       "                  12th               4\n",
       "                  5th-6th            4\n",
       "                  7th-8th            1\n",
       "                  9th                5\n",
       "                  Assoc-acdm        86\n",
       "                  Assoc-voc         93\n",
       "                  Bachelors        521\n",
       "                  Doctorate         64\n",
       "                  HS-grad          330\n",
       "                  Masters          290\n",
       "                  Prof-school       63\n",
       "                  Some-college     293\n",
       "         Male     10th              83\n",
       "                  11th              81\n",
       "                  12th              44\n",
       "                  1st-4th            8\n",
       "                  5th-6th           23\n",
       "                  7th-8th           61\n",
       "                  9th               36\n",
       "                  Assoc-acdm       327\n",
       "                  Assoc-voc        429\n",
       "                  Bachelors       2791\n",
       "                  Doctorate        367\n",
       "                  HS-grad         2173\n",
       "                  Masters         1169\n",
       "                  Preschool          1\n",
       "                  Prof-school      554\n",
       "                  Some-college    1770\n",
       "Name: Education, dtype: int64"
      ]
     },
     "execution_count": 93,
     "metadata": {},
     "output_type": "execute_result"
    }
   ],
   "source": [
    "Ed = df[df['Target'] == ' >50K'].groupby(['Target','Sex', 'Education'])['Education'].count()\n",
    "Ed"
   ]
  },
  {
   "cell_type": "code",
   "execution_count": null,
   "id": "a815ccae",
   "metadata": {},
   "outputs": [],
   "source": []
  }
 ],
 "metadata": {
  "kernelspec": {
   "display_name": "Python 3 (ipykernel)",
   "language": "python",
   "name": "python3"
  },
  "language_info": {
   "codemirror_mode": {
    "name": "ipython",
    "version": 3
   },
   "file_extension": ".py",
   "mimetype": "text/x-python",
   "name": "python",
   "nbconvert_exporter": "python",
   "pygments_lexer": "ipython3",
   "version": "3.9.12"
  }
 },
 "nbformat": 4,
 "nbformat_minor": 5
}
